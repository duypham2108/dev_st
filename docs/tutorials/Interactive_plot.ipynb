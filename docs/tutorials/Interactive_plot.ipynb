{
 "cells": [
  {
   "cell_type": "markdown",
   "metadata": {},
   "source": [
    "# Interactive plots"
   ]
  },
  {
   "cell_type": "markdown",
   "metadata": {},
   "source": [
    "In this tutorial, we introduce several functions for interactive plotting to explore the progression of Ductal Carcinoma in situ (DCIS) - Invasive Ductal Cancer (IDC)\n",
    "\n",
    "Source: https://support.10xgenomics.com/spatial-gene-expression/datasets\n",
    "\n",
    "If you are using jupyter lab, then you need to run these two lines of code:\n",
    "\n",
    "```\n",
    "jupyter labextension install @jupyter-widgets/jupyterlab-manager\n",
    "jupyter labextension install @bokeh/jupyter_bokeh\n",
    "```"
   ]
  },
  {
   "cell_type": "code",
   "execution_count": 1,
   "metadata": {},
   "outputs": [],
   "source": [
    "import stlearn as st\n",
    "# Ingore all warnings\n",
    "import warnings\n",
    "warnings.filterwarnings(\"ignore\")"
   ]
  },
  {
   "cell_type": "markdown",
   "metadata": {},
   "source": [
    "We created a processed Visium data and you can now plot all interactive plots with stLearn."
   ]
  },
  {
   "cell_type": "code",
   "execution_count": 2,
   "metadata": {},
   "outputs": [],
   "source": [
    "data = st.dataset.example_bcba()"
   ]
  },
  {
   "cell_type": "code",
   "execution_count": 3,
   "metadata": {},
   "outputs": [
    {
     "data": {
      "text/plain": [
       "AnnData object with n_obs × n_vars = 3813 × 2\n",
       "    obs: 'in_tissue', 'array_row', 'array_col', 'imagecol', 'imagerow', 'tile_path', 'louvain', 'sub_cluster_labels', 'dpt_pseudotime'\n",
       "    var: 'gene_ids', 'feature_types', 'genome', 'n_cells', 'mean', 'std'\n",
       "    uns: 'PTS_graph', 'centroid_dict', 'clade_13', 'clade_6', 'diffmap_evals', 'global_graph', 'iroot', 'louvain', 'louvain_colors', 'louvain_sizes', 'lr', 'neighbors', 'paga', 'pca', 'screening_result_global', 'selected', 'spatial', 'split_node', 'threshold_spots'\n",
       "    obsm: 'X_pca', 'cci_lr', 'lr', 'lr_pvalues', 'lr_sign', 'spatial'\n",
       "    varm: 'PCs'\n",
       "    obsp: 'connectivities', 'distances'"
      ]
     },
     "execution_count": 3,
     "metadata": {},
     "output_type": "execute_result"
    }
   ],
   "source": [
    "data"
   ]
  },
  {
   "cell_type": "markdown",
   "metadata": {},
   "source": [
    "### Interactive gene plot "
   ]
  },
  {
   "cell_type": "markdown",
   "metadata": {},
   "source": [
    "We provide several options:\n",
    "\n",
    "- `Gene`: Choose the available gene in the dataset\n",
    "\n",
    "- `Spot alpha`: Choose the opacity value of spots\n",
    "\n",
    "- `Tissue alpha`: Choose the opacity of H&E image\n",
    "\n",
    "- `Spot size`: Choose the size of the spots"
   ]
  },
  {
   "cell_type": "code",
   "execution_count": 4,
   "metadata": {},
   "outputs": [],
   "source": [
    "st.pl.gene_plot_interactive"
   ]
  },
  {
   "cell_type": "markdown",
   "metadata": {},
   "source": [
    "<img src=\"../_static/img/bokeh/gene_plot.png\">"
   ]
  },
  {
   "cell_type": "markdown",
   "metadata": {},
   "source": [
    "### Interactive cluster plot with Pseudo-time-space results"
   ]
  },
  {
   "cell_type": "markdown",
   "metadata": {},
   "source": [
    "We provide several options:\n",
    "\n",
    "- `Spot alpha`: Choose the opacity value of spots\n",
    "\n",
    "- `Tissue alpha`: Choose the opacity of H&E image\n",
    "\n",
    "- `Spot size`: Choose the size of the spots\n",
    "\n",
    "- `Choose clusters`: Choose clusters to be displayed\n",
    "\n",
    "- `Show spatial trajectories`: Option to show spatial trajectories"
   ]
  },
  {
   "cell_type": "code",
   "execution_count": 5,
   "metadata": {},
   "outputs": [],
   "source": [
    "st.pl.cluster_plot_interactive(data,use_label=\"louvain\")"
   ]
  },
  {
   "cell_type": "markdown",
   "metadata": {},
   "source": [
    "<img src=\"../_static/img/bokeh/cluster_psts.png\">"
   ]
  },
  {
   "cell_type": "markdown",
   "metadata": {},
   "source": [
    "### Cell-cell interaction plot "
   ]
  },
  {
   "cell_type": "markdown",
   "metadata": {},
   "source": [
    "We provide several options:\n",
    "\n",
    "- `Het`: Choose the available type of results in CCI analysis\n",
    "\n",
    "- `Spot alpha`: Choose the opacity value of spots\n",
    "\n",
    "- `Tissue alpha`: Choose the opacity of H&E image\n",
    "\n",
    "- `Spot size`: Choose the size of the spots"
   ]
  },
  {
   "cell_type": "code",
   "execution_count": 6,
   "metadata": {},
   "outputs": [],
   "source": [
    "st.pl.het_plot_interactive(data)"
   ]
  },
  {
   "cell_type": "markdown",
   "metadata": {},
   "source": [
    "<img src=\"../_static/img/bokeh/cci.png\">"
   ]
  }
 ],
 "metadata": {
  "kernelspec": {
   "display_name": "Python 3",
   "language": "python",
   "name": "python3"
  },
  "language_info": {
   "codemirror_mode": {
    "name": "ipython",
    "version": 3
   },
   "file_extension": ".py",
   "mimetype": "text/x-python",
   "name": "python",
   "nbconvert_exporter": "python",
   "pygments_lexer": "ipython3",
   "version": "3.8.2"
  }
 },
 "nbformat": 4,
 "nbformat_minor": 4
}
